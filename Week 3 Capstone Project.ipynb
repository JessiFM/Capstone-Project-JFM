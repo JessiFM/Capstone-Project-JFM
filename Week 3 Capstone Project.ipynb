{
    "cells": [
        {
            "metadata": {
                "collapsed": true
            },
            "cell_type": "markdown",
            "source": "Week 3 Final Assignment - Segmenting and Clustering Neighbourhoods in Toronto, ON.\n\nUse the Notebook to build the code to scrape the following Wikipedia page, https://en.wikipedia.org/wiki/List_of_postal_codes_of_Canada:_M, in order to obtain the data that is in the table of postal codes and to transform the data into a pandas dataframe as per example in the project instructions.\n\nDetailed steps below\n"
        },
        {
            "metadata": {},
            "cell_type": "markdown",
            "source": "Step 1: 3 COLUMNS ARE CREATED FOR THIS DATAFRAME : PostalCode, Borough and Neighborhood"
        },
        {
            "metadata": {},
            "cell_type": "code",
            "source": "import numpy as np # library to handle data in a vectorized manner\n\nimport pandas as pd # library for data analsysis\npd.set_option('display.max_columns', None)\npd.set_option('display.max_rows', None)\n\nprint('Libraries imported.')",
            "execution_count": 1,
            "outputs": [
                {
                    "output_type": "stream",
                    "text": "Libraries imported.\n",
                    "name": "stdout"
                }
            ]
        },
        {
            "metadata": {},
            "cell_type": "code",
            "source": "tables = pd.read_html('https://en.wikipedia.org/wiki/List_of_postal_codes_of_Canada:_M', header=0)\n\n# I did not use Beatiful Soup for this as I felt this would be easier and faster\nrequired_cols = ['Postal Code', 'Borough','Neighbourhood']\n\n# Note I converted the boolean output of array_equal function to String as it \n# wasn't working as expected when used in the if condition as expected\nfor table in tables:\n    if(str(np.array_equal(np.array(table.columns),np.array(required_cols)))==\"True\"):\n        pstl_data_df = pd.DataFrame(table)    \n    break\nprint(\"Shape of Dataframe is - \", pstl_data_df.shape)\npstl_data_df.head()",
            "execution_count": 12,
            "outputs": [
                {
                    "output_type": "stream",
                    "text": "Shape of Dataframe is -  (180, 3)\n",
                    "name": "stdout"
                },
                {
                    "output_type": "execute_result",
                    "execution_count": 12,
                    "data": {
                        "text/plain": "  Postal Code           Borough              Neighbourhood\n0         M1A      Not assigned               Not assigned\n1         M2A      Not assigned               Not assigned\n2         M3A        North York                  Parkwoods\n3         M4A        North York           Victoria Village\n4         M5A  Downtown Toronto  Regent Park, Harbourfront",
                        "text/html": "<div>\n<style scoped>\n    .dataframe tbody tr th:only-of-type {\n        vertical-align: middle;\n    }\n\n    .dataframe tbody tr th {\n        vertical-align: top;\n    }\n\n    .dataframe thead th {\n        text-align: right;\n    }\n</style>\n<table border=\"1\" class=\"dataframe\">\n  <thead>\n    <tr style=\"text-align: right;\">\n      <th></th>\n      <th>Postal Code</th>\n      <th>Borough</th>\n      <th>Neighbourhood</th>\n    </tr>\n  </thead>\n  <tbody>\n    <tr>\n      <th>0</th>\n      <td>M1A</td>\n      <td>Not assigned</td>\n      <td>Not assigned</td>\n    </tr>\n    <tr>\n      <th>1</th>\n      <td>M2A</td>\n      <td>Not assigned</td>\n      <td>Not assigned</td>\n    </tr>\n    <tr>\n      <th>2</th>\n      <td>M3A</td>\n      <td>North York</td>\n      <td>Parkwoods</td>\n    </tr>\n    <tr>\n      <th>3</th>\n      <td>M4A</td>\n      <td>North York</td>\n      <td>Victoria Village</td>\n    </tr>\n    <tr>\n      <th>4</th>\n      <td>M5A</td>\n      <td>Downtown Toronto</td>\n      <td>Regent Park, Harbourfront</td>\n    </tr>\n  </tbody>\n</table>\n</div>"
                    },
                    "metadata": {}
                }
            ]
        },
        {
            "metadata": {},
            "cell_type": "markdown",
            "source": "Step 2: Process only the cells that have an assigned borough. Ignore cells with a borough that is Not assigned."
        },
        {
            "metadata": {},
            "cell_type": "code",
            "source": "#Filtering out Boroughs which are Not assigned\npstl_data_df = pstl_data_df[pstl_data_df.Borough!=\"Not assigned\"]\nprint(\"Shape of Dataframe is - \",pstl_data_df.shape)\npstl_data_df.head()",
            "execution_count": 13,
            "outputs": [
                {
                    "output_type": "stream",
                    "text": "Shape of Dataframe is -  (103, 3)\n",
                    "name": "stdout"
                },
                {
                    "output_type": "execute_result",
                    "execution_count": 13,
                    "data": {
                        "text/plain": "  Postal Code           Borough                                Neighbourhood\n2         M3A        North York                                    Parkwoods\n3         M4A        North York                             Victoria Village\n4         M5A  Downtown Toronto                    Regent Park, Harbourfront\n5         M6A        North York             Lawrence Manor, Lawrence Heights\n6         M7A  Downtown Toronto  Queen's Park, Ontario Provincial Government",
                        "text/html": "<div>\n<style scoped>\n    .dataframe tbody tr th:only-of-type {\n        vertical-align: middle;\n    }\n\n    .dataframe tbody tr th {\n        vertical-align: top;\n    }\n\n    .dataframe thead th {\n        text-align: right;\n    }\n</style>\n<table border=\"1\" class=\"dataframe\">\n  <thead>\n    <tr style=\"text-align: right;\">\n      <th></th>\n      <th>Postal Code</th>\n      <th>Borough</th>\n      <th>Neighbourhood</th>\n    </tr>\n  </thead>\n  <tbody>\n    <tr>\n      <th>2</th>\n      <td>M3A</td>\n      <td>North York</td>\n      <td>Parkwoods</td>\n    </tr>\n    <tr>\n      <th>3</th>\n      <td>M4A</td>\n      <td>North York</td>\n      <td>Victoria Village</td>\n    </tr>\n    <tr>\n      <th>4</th>\n      <td>M5A</td>\n      <td>Downtown Toronto</td>\n      <td>Regent Park, Harbourfront</td>\n    </tr>\n    <tr>\n      <th>5</th>\n      <td>M6A</td>\n      <td>North York</td>\n      <td>Lawrence Manor, Lawrence Heights</td>\n    </tr>\n    <tr>\n      <th>6</th>\n      <td>M7A</td>\n      <td>Downtown Toronto</td>\n      <td>Queen's Park, Ontario Provincial Government</td>\n    </tr>\n  </tbody>\n</table>\n</div>"
                    },
                    "metadata": {}
                }
            ]
        },
        {
            "metadata": {},
            "cell_type": "markdown",
            "source": "Step 3: If a cell has a borough but a Not assigned neighborhood, then the neighborhood will be the same as the borough. "
        },
        {
            "metadata": {},
            "cell_type": "code",
            "source": "pstl_data_df['new_nghbr'] = np.where(pstl_data_df['Neighbourhood']=='Not assigned',pstl_data_df['Borough'],pstl_data_df['Neighbourhood'])\npstl_data_df.head(11)",
            "execution_count": 14,
            "outputs": [
                {
                    "output_type": "execute_result",
                    "execution_count": 14,
                    "data": {
                        "text/plain": "   Postal Code           Borough                                Neighbourhood  \\\n2          M3A        North York                                    Parkwoods   \n3          M4A        North York                             Victoria Village   \n4          M5A  Downtown Toronto                    Regent Park, Harbourfront   \n5          M6A        North York             Lawrence Manor, Lawrence Heights   \n6          M7A  Downtown Toronto  Queen's Park, Ontario Provincial Government   \n8          M9A         Etobicoke      Islington Avenue, Humber Valley Village   \n9          M1B       Scarborough                               Malvern, Rouge   \n11         M3B        North York                                    Don Mills   \n12         M4B         East York              Parkview Hill, Woodbine Gardens   \n13         M5B  Downtown Toronto                     Garden District, Ryerson   \n14         M6B        North York                                    Glencairn   \n\n                                      new_nghbr  \n2                                     Parkwoods  \n3                              Victoria Village  \n4                     Regent Park, Harbourfront  \n5              Lawrence Manor, Lawrence Heights  \n6   Queen's Park, Ontario Provincial Government  \n8       Islington Avenue, Humber Valley Village  \n9                                Malvern, Rouge  \n11                                    Don Mills  \n12              Parkview Hill, Woodbine Gardens  \n13                     Garden District, Ryerson  \n14                                    Glencairn  ",
                        "text/html": "<div>\n<style scoped>\n    .dataframe tbody tr th:only-of-type {\n        vertical-align: middle;\n    }\n\n    .dataframe tbody tr th {\n        vertical-align: top;\n    }\n\n    .dataframe thead th {\n        text-align: right;\n    }\n</style>\n<table border=\"1\" class=\"dataframe\">\n  <thead>\n    <tr style=\"text-align: right;\">\n      <th></th>\n      <th>Postal Code</th>\n      <th>Borough</th>\n      <th>Neighbourhood</th>\n      <th>new_nghbr</th>\n    </tr>\n  </thead>\n  <tbody>\n    <tr>\n      <th>2</th>\n      <td>M3A</td>\n      <td>North York</td>\n      <td>Parkwoods</td>\n      <td>Parkwoods</td>\n    </tr>\n    <tr>\n      <th>3</th>\n      <td>M4A</td>\n      <td>North York</td>\n      <td>Victoria Village</td>\n      <td>Victoria Village</td>\n    </tr>\n    <tr>\n      <th>4</th>\n      <td>M5A</td>\n      <td>Downtown Toronto</td>\n      <td>Regent Park, Harbourfront</td>\n      <td>Regent Park, Harbourfront</td>\n    </tr>\n    <tr>\n      <th>5</th>\n      <td>M6A</td>\n      <td>North York</td>\n      <td>Lawrence Manor, Lawrence Heights</td>\n      <td>Lawrence Manor, Lawrence Heights</td>\n    </tr>\n    <tr>\n      <th>6</th>\n      <td>M7A</td>\n      <td>Downtown Toronto</td>\n      <td>Queen's Park, Ontario Provincial Government</td>\n      <td>Queen's Park, Ontario Provincial Government</td>\n    </tr>\n    <tr>\n      <th>8</th>\n      <td>M9A</td>\n      <td>Etobicoke</td>\n      <td>Islington Avenue, Humber Valley Village</td>\n      <td>Islington Avenue, Humber Valley Village</td>\n    </tr>\n    <tr>\n      <th>9</th>\n      <td>M1B</td>\n      <td>Scarborough</td>\n      <td>Malvern, Rouge</td>\n      <td>Malvern, Rouge</td>\n    </tr>\n    <tr>\n      <th>11</th>\n      <td>M3B</td>\n      <td>North York</td>\n      <td>Don Mills</td>\n      <td>Don Mills</td>\n    </tr>\n    <tr>\n      <th>12</th>\n      <td>M4B</td>\n      <td>East York</td>\n      <td>Parkview Hill, Woodbine Gardens</td>\n      <td>Parkview Hill, Woodbine Gardens</td>\n    </tr>\n    <tr>\n      <th>13</th>\n      <td>M5B</td>\n      <td>Downtown Toronto</td>\n      <td>Garden District, Ryerson</td>\n      <td>Garden District, Ryerson</td>\n    </tr>\n    <tr>\n      <th>14</th>\n      <td>M6B</td>\n      <td>North York</td>\n      <td>Glencairn</td>\n      <td>Glencairn</td>\n    </tr>\n  </tbody>\n</table>\n</div>"
                    },
                    "metadata": {}
                }
            ]
        },
        {
            "metadata": {},
            "cell_type": "markdown",
            "source": "Step 4: More than one neighborhood can exist in one postal code area. For example, in the table on the Wikipedia page, you will notice that M5A is listed twice and has two neighborhoods: Harbourfront and Regent Park. These two rows will be combined into one row with the neighborhoods separated with a comma as shown in row 11 in the above table."
        },
        {
            "metadata": {},
            "cell_type": "markdown",
            "source": "Used the \"new_nghbr\" column to get a grouped column, as in wherever the same Postal Code and the same Borough are present we have to club the Neighbourhood column using the functions groupby and apply"
        },
        {
            "metadata": {},
            "cell_type": "code",
            "source": "can_postal_cd_df = pd.DataFrame(pstl_data_df.groupby(['Postal Code','Borough'])['new_nghbr'].apply(','.join).reset_index())\n\n# Renaming Columns to the same one in the image given:\ncan_postal_cd_df = can_postal_cd_df.rename(columns = {\"Postal Code\": \"Postal Code\",\"new_nghbr\":\"Neighborhood\"})",
            "execution_count": 16,
            "outputs": []
        },
        {
            "metadata": {},
            "cell_type": "code",
            "source": "print(can_postal_cd_df.head())\nprint(\"\\n The Final Shape of the dataframe is  - \",can_postal_cd_df.shape)",
            "execution_count": 17,
            "outputs": [
                {
                    "output_type": "stream",
                    "text": "  Postal Code      Borough                            Neighborhood\n0         M1B  Scarborough                          Malvern, Rouge\n1         M1C  Scarborough  Rouge Hill, Port Union, Highland Creek\n2         M1E  Scarborough       Guildwood, Morningside, West Hill\n3         M1G  Scarborough                                  Woburn\n4         M1H  Scarborough                               Cedarbrae\n\n The Final Shape of the dataframe is  -  (103, 3)\n",
                    "name": "stdout"
                }
            ]
        },
        {
            "metadata": {},
            "cell_type": "markdown",
            "source": "As We see above the shape of the new data frame created is (103,3)"
        },
        {
            "metadata": {},
            "cell_type": "code",
            "source": "",
            "execution_count": null,
            "outputs": []
        }
    ],
    "metadata": {
        "kernelspec": {
            "name": "python3",
            "display_name": "Python 3.7",
            "language": "python"
        },
        "language_info": {
            "name": "python",
            "version": "3.7.9",
            "mimetype": "text/x-python",
            "codemirror_mode": {
                "name": "ipython",
                "version": 3
            },
            "pygments_lexer": "ipython3",
            "nbconvert_exporter": "python",
            "file_extension": ".py"
        }
    },
    "nbformat": 4,
    "nbformat_minor": 1
}