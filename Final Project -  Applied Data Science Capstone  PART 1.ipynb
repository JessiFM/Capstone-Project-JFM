{
    "cells": [
        {
            "metadata": {
                "collapsed": true
            },
            "cell_type": "markdown",
            "source": "# BATTLE OF NEIGHBORHOODS QUITO -  ECUADOR"
        },
        {
            "metadata": {},
            "cell_type": "markdown",
            "source": "## IBM APPLIED DATA SCIENCE - CAPSTONE FINAL PROJECT"
        },
        {
            "metadata": {},
            "cell_type": "markdown",
            "source": "### JESSICA FOURNEY M. "
        },
        {
            "metadata": {},
            "cell_type": "markdown",
            "source": "#### NOV - 2020 / PART 1"
        },
        {
            "metadata": {},
            "cell_type": "markdown",
            "source": "## INTRODUCTION"
        },
        {
            "metadata": {},
            "cell_type": "markdown",
            "source": "### 1.\tBackground"
        },
        {
            "metadata": {},
            "cell_type": "markdown",
            "source": "Ecuador officially known as the Republic of Ecuador is a country in northwestern South America, border by Colombia on the north, Peru on the East and South and the Pacific Ocean on the West. \nQuito is the capital of Ecuador, the country's most populated city with around 1\u2019874,000,000 population. Quito is located in the highlands of Ecuador at an elevation of 2,850 metres (9,350 ft) above sea level; it is the second-highest official capital city in the world. \n\nThe historic centre or Old Town of Quito is one of the largest, least altered and best-preserved in the Americas. \n\nQuito doesn\u00b4t have specific either extreme seasons. It can be really warm/hot and rainy the same day. People are very traditional and love having afternoon coffees every day which usually is accompanied with bread and pastries. So you can find Bread bakeries in every neighborhood however the bakeries specialized in sweet pastries are not very common.  \n\nQuito tourism numbers exceeded half a million visitors in the first nine months of 2019, 48% of all arrivals in Ecuador, which is 5% more than the number of visitors recorded in the first nine months of the previous year. \n\nFor entrepreneurs looking to investing in business like specialty cafes and bake shops would be a great opportunity considering the locals and tourist visitors.\n"
        },
        {
            "metadata": {},
            "cell_type": "markdown",
            "source": "### 2.\t Business Problem"
        },
        {
            "metadata": {},
            "cell_type": "markdown",
            "source": "Given that Quito is a very traditional city and that as I mentioned before there is Bread stores (Bakeries) in almost each neighborhood, we need to figure out what will be the best location to open a Sweet Bakery (Sweet pastries) business. We will be focusing our audience to crowded and busy locations as they are the \u201cnew\u201d downtown and the Old Town. \nTo choose the best location of the city we need to compare the neighborhoods particularly the \u201cnew\u201d downtown where most business of the financial district are located, and the historic center or Old Town. We will need to find out where are most business located and their categories to find out the best business opportunity."
        },
        {
            "metadata": {},
            "cell_type": "markdown",
            "source": "## DATA"
        },
        {
            "metadata": {},
            "cell_type": "markdown",
            "source": "I will briefly describe the two neighborhoods selected for the comparison.\n\nQuito downtown\nThis is the modern Quito, with high-rise buildings, shopping centers, the financial district, and upper-class residential areas and some working-class housing areas. This modern area is the city's entertainment hub. It is a meeting point for both residents and tourists. Its cosmopolitan atmosphere is expressed in a wide variety of culinary, artistic, and cultural options, and the large number of hotels, inns, travel agencies, shops, bars, and discoth\u00e8ques that light up when the sun sets.\nQuito Historic Centre \u2013 Old Town\nQuito has the largest, least altered, and best-preserved historic center in the Americas. This center was, together with the historic center of Krak\u00f3w in Poland, the first to be declared a World Heritage Site by UNESCO on 18 September 1978. There are about 130 monumental buildings (which host a variety of pictorial art and sculpture, mostly religiously inspired, in a multi-faceted range of schools and styles), and 5,000 properties registered in the municipal inventory of heritage properties.\n\nFoursquare API:\nI will be using the Foursquare API to explore the nearby venues for both neighborhoods to find the most accurate place to open the Shop. I looked for venues up to 2km range from the latitude and longitude of neighborhoods\nFrom the foursquare API, I will be retrieving the following for each nearby venue: \n\n\u2022\tName \n\u2022\tCategory \n\u2022\tLatitude\n\u2022\tLongitude"
        },
        {
            "metadata": {},
            "cell_type": "code",
            "source": "",
            "execution_count": null,
            "outputs": []
        }
    ],
    "metadata": {
        "kernelspec": {
            "name": "python3",
            "display_name": "Python 3.7",
            "language": "python"
        },
        "language_info": {
            "name": "python",
            "version": "3.7.9",
            "mimetype": "text/x-python",
            "codemirror_mode": {
                "name": "ipython",
                "version": 3
            },
            "pygments_lexer": "ipython3",
            "nbconvert_exporter": "python",
            "file_extension": ".py"
        }
    },
    "nbformat": 4,
    "nbformat_minor": 1
}